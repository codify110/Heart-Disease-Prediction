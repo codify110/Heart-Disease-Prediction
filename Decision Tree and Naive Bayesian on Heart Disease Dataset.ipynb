{
  "nbformat": 4,
  "nbformat_minor": 0,
  "metadata": {
    "kernelspec": {
      "display_name": "Python 3",
      "language": "python",
      "name": "python3"
    },
    "language_info": {
      "codemirror_mode": {
        "name": "ipython",
        "version": 3
      },
      "file_extension": ".py",
      "mimetype": "text/x-python",
      "name": "python",
      "nbconvert_exporter": "python",
      "pygments_lexer": "ipython3",
      "version": "3.6.2"
    },
    "colab": {
      "name": "DM_Assignment#05.ipynb",
      "provenance": [],
      "collapsed_sections": [
        "Ee2RQQRPY0kF"
      ]
    }
  },
  "cells": [
    {
      "cell_type": "markdown",
      "metadata": {
        "id": "JgYxiiTg0Eu1"
      },
      "source": [
        "##Decision Tree:\n",
        "A decision tree is a decision support tool that uses a tree-like model of decisions and their possible consequences, including chance event outcomes, resource costs, and utility. It is one way to display an algorithm that only contains conditional control statements.\n",
        "##Naïve Bayesian:\n",
        "In statistics, Naive Bayes classifiers are a family of simple \"probabilistic classifiers\" based on applying Bayes' theorem with strong independence assumptions between the features. They are among the simplest Bayesian network models, but coupled with Kernel density estimation, they can achieve higher accuracy levels.\n"
      ]
    },
    {
      "cell_type": "markdown",
      "metadata": {
        "id": "BTMvmVjg0Vc1"
      },
      "source": [
        "#Let’s Code:\n",
        "\n",
        "1st we know about the type of data and how many columns and value that we use here.\n",
        "\n",
        "##Attribute information:\n",
        "*\tage - age in years\n",
        "*\tsex - (1 = male; 0 = female)\n",
        "*\tcp - chest pain type\n",
        "*\ttrestbps - resting blood pressure (in mm Hg on admission to the hospital)\n",
        "*\tchol - serum cholestoral in mg/dl\n",
        "*\tfbs - (fasting blood sugar > 120 mg/dl) (1 = true; 0 = false)\n",
        "*\trestecg - resting electrocardiographic results\n",
        "*\tthalach - maximum heart rate achieved\n",
        "*\texang - exercise induced angina (1 = yes; 0 = no)\n",
        "*\toldpeak - ST depression induced by exercise relative to rest\n",
        "*\tslope - the slope of the peak exercise ST segment\n",
        "*\tca - number of major vessels (0-3) colored by flourosopy\n",
        "*\tthal - 3 = normal; 6 = fixed defect; 7 = reversable defect\n",
        "*\ttarget - have disease or not (1=yes, 0=no)\n"
      ]
    },
    {
      "cell_type": "markdown",
      "metadata": {
        "_uuid": "bbd660b62cc616efa33651beedc49b86045b784d",
        "id": "wazMc9QrY0j3"
      },
      "source": [
        "## <font size=5> <strong>Naive Bayes & Decision tree on Heart disease dataset in python\n",
        " "
      ]
    },
    {
      "cell_type": "markdown",
      "metadata": {
        "_uuid": "e41ea25bec5928203cec544d0413fecd4b4e5555",
        "id": "JC37N_fPY0j7"
      },
      "source": [
        "## I. Importing essential libraries"
      ]
    },
    {
      "cell_type": "code",
      "metadata": {
        "_uuid": "f571f7e57c828d45fe55f6136fe8c2e796f74d4e",
        "colab": {
          "base_uri": "https://localhost:8080/"
        },
        "id": "HD8HOwJ2Y0j8",
        "outputId": "a5b332eb-384f-418a-bb31-ca218a4a28ce"
      },
      "source": [
        "import numpy as np\n",
        "import pandas as pd\n",
        "import matplotlib.pyplot as plt\n",
        "import seaborn as sns\n",
        "\n",
        "%matplotlib inline\n",
        "\n",
        "import os\n",
        "print(os.listdir())\n",
        "\n",
        "import warnings\n",
        "warnings.filterwarnings('ignore')"
      ],
      "execution_count": null,
      "outputs": [
        {
          "output_type": "stream",
          "text": [
            "['.config', 'heartdisease1.csv', 'sample_data']\n"
          ],
          "name": "stdout"
        }
      ]
    },
    {
      "cell_type": "markdown",
      "metadata": {
        "_uuid": "44e71221837f6fa60edc2c83b7492ddb019cc1cd",
        "id": "8myb9JgrY0j-"
      },
      "source": [
        "## II. Importing and understanding our dataset "
      ]
    },
    {
      "cell_type": "code",
      "metadata": {
        "_uuid": "2a1a1dae64ae3c934849b2b918bc7d68cd59e3f6",
        "id": "d9VR7S26Y0j-"
      },
      "source": [
        "# import heartdisease dataset\n",
        "dataset = pd.read_csv(\"heartdisease1.csv\")"
      ],
      "execution_count": null,
      "outputs": []
    },
    {
      "cell_type": "markdown",
      "metadata": {
        "_uuid": "481fa1d160a3256ef2470535bfb0574820fbaabd",
        "id": "4zQDeSykY0j_"
      },
      "source": [
        "#### Verifying it as a 'dataframe' object in pandas"
      ]
    },
    {
      "cell_type": "code",
      "metadata": {
        "_uuid": "86353d54a331dbf55a63874402cf13e2a72c3750",
        "colab": {
          "base_uri": "https://localhost:8080/"
        },
        "id": "Nm0nOpGVY0j_",
        "outputId": "a8bc31a3-bfa5-430e-e6fc-68d1785d6963"
      },
      "source": [
        "# Verifying it as a 'dataframe' object in pandas\n",
        "type(dataset)"
      ],
      "execution_count": null,
      "outputs": [
        {
          "output_type": "execute_result",
          "data": {
            "text/plain": [
              "pandas.core.frame.DataFrame"
            ]
          },
          "metadata": {
            "tags": []
          },
          "execution_count": 3
        }
      ]
    },
    {
      "cell_type": "markdown",
      "metadata": {
        "_uuid": "44649a50ce58d2e10a032f7d0e7ecf435e932481",
        "id": "jSl1xNKaY0kA"
      },
      "source": [
        "#### Shape of dataset"
      ]
    },
    {
      "cell_type": "code",
      "metadata": {
        "_uuid": "0a2396061d262bee451e61dd51be84d0bd1ac9d0",
        "colab": {
          "base_uri": "https://localhost:8080/"
        },
        "id": "D-k2DrpBY0kA",
        "outputId": "40a0d638-ce75-4c09-b8f2-d0266619ebef"
      },
      "source": [
        "# Shape of dataset\n",
        "dataset.shape"
      ],
      "execution_count": null,
      "outputs": [
        {
          "output_type": "execute_result",
          "data": {
            "text/plain": [
              "(1328, 14)"
            ]
          },
          "metadata": {
            "tags": []
          },
          "execution_count": 4
        }
      ]
    },
    {
      "cell_type": "markdown",
      "metadata": {
        "_uuid": "3e1de0c39fc28f086a5e8377cc5fbdbf91d377b3",
        "id": "r_oLIuD_Y0kB"
      },
      "source": [
        "#### Printing out a few columns"
      ]
    },
    {
      "cell_type": "code",
      "metadata": {
        "_uuid": "87ebcc578e5959fe9a9c9a538c73122183454459",
        "colab": {
          "base_uri": "https://localhost:8080/",
          "height": 204
        },
        "id": "eHoPU-ZCY0kB",
        "outputId": "ad98c0cf-f6ae-47a1-c8b3-1e4e58b3182f"
      },
      "source": [
        "# Printing out a few columns\n",
        "dataset.head(5)"
      ],
      "execution_count": null,
      "outputs": [
        {
          "output_type": "execute_result",
          "data": {
            "text/html": [
              "<div>\n",
              "<style scoped>\n",
              "    .dataframe tbody tr th:only-of-type {\n",
              "        vertical-align: middle;\n",
              "    }\n",
              "\n",
              "    .dataframe tbody tr th {\n",
              "        vertical-align: top;\n",
              "    }\n",
              "\n",
              "    .dataframe thead th {\n",
              "        text-align: right;\n",
              "    }\n",
              "</style>\n",
              "<table border=\"1\" class=\"dataframe\">\n",
              "  <thead>\n",
              "    <tr style=\"text-align: right;\">\n",
              "      <th></th>\n",
              "      <th>age</th>\n",
              "      <th>sex</th>\n",
              "      <th>cp</th>\n",
              "      <th>trestbps</th>\n",
              "      <th>chol</th>\n",
              "      <th>fbs</th>\n",
              "      <th>restecg</th>\n",
              "      <th>thalach</th>\n",
              "      <th>exang</th>\n",
              "      <th>oldpeak</th>\n",
              "      <th>slope</th>\n",
              "      <th>ca</th>\n",
              "      <th>thal</th>\n",
              "      <th>target</th>\n",
              "    </tr>\n",
              "  </thead>\n",
              "  <tbody>\n",
              "    <tr>\n",
              "      <th>0</th>\n",
              "      <td>52</td>\n",
              "      <td>1</td>\n",
              "      <td>0</td>\n",
              "      <td>125.0</td>\n",
              "      <td>212.0</td>\n",
              "      <td>0</td>\n",
              "      <td>1</td>\n",
              "      <td>168.0</td>\n",
              "      <td>0</td>\n",
              "      <td>1.0</td>\n",
              "      <td>2</td>\n",
              "      <td>2</td>\n",
              "      <td>3</td>\n",
              "      <td>0</td>\n",
              "    </tr>\n",
              "    <tr>\n",
              "      <th>1</th>\n",
              "      <td>53</td>\n",
              "      <td>1</td>\n",
              "      <td>0</td>\n",
              "      <td>140.0</td>\n",
              "      <td>203.0</td>\n",
              "      <td>1</td>\n",
              "      <td>0</td>\n",
              "      <td>155.0</td>\n",
              "      <td>1</td>\n",
              "      <td>3.1</td>\n",
              "      <td>0</td>\n",
              "      <td>0</td>\n",
              "      <td>3</td>\n",
              "      <td>0</td>\n",
              "    </tr>\n",
              "    <tr>\n",
              "      <th>2</th>\n",
              "      <td>70</td>\n",
              "      <td>1</td>\n",
              "      <td>0</td>\n",
              "      <td>145.0</td>\n",
              "      <td>174.0</td>\n",
              "      <td>0</td>\n",
              "      <td>1</td>\n",
              "      <td>125.0</td>\n",
              "      <td>1</td>\n",
              "      <td>2.6</td>\n",
              "      <td>0</td>\n",
              "      <td>0</td>\n",
              "      <td>3</td>\n",
              "      <td>0</td>\n",
              "    </tr>\n",
              "    <tr>\n",
              "      <th>3</th>\n",
              "      <td>61</td>\n",
              "      <td>1</td>\n",
              "      <td>0</td>\n",
              "      <td>148.0</td>\n",
              "      <td>203.0</td>\n",
              "      <td>0</td>\n",
              "      <td>1</td>\n",
              "      <td>161.0</td>\n",
              "      <td>0</td>\n",
              "      <td>0.0</td>\n",
              "      <td>2</td>\n",
              "      <td>1</td>\n",
              "      <td>3</td>\n",
              "      <td>0</td>\n",
              "    </tr>\n",
              "    <tr>\n",
              "      <th>4</th>\n",
              "      <td>62</td>\n",
              "      <td>0</td>\n",
              "      <td>0</td>\n",
              "      <td>138.0</td>\n",
              "      <td>294.0</td>\n",
              "      <td>1</td>\n",
              "      <td>1</td>\n",
              "      <td>106.0</td>\n",
              "      <td>0</td>\n",
              "      <td>1.9</td>\n",
              "      <td>1</td>\n",
              "      <td>3</td>\n",
              "      <td>2</td>\n",
              "      <td>0</td>\n",
              "    </tr>\n",
              "  </tbody>\n",
              "</table>\n",
              "</div>"
            ],
            "text/plain": [
              "   age  sex  cp  trestbps   chol  fbs  ...  exang  oldpeak  slope  ca  thal  target\n",
              "0   52    1   0     125.0  212.0    0  ...      0      1.0      2   2     3       0\n",
              "1   53    1   0     140.0  203.0    1  ...      1      3.1      0   0     3       0\n",
              "2   70    1   0     145.0  174.0    0  ...      1      2.6      0   0     3       0\n",
              "3   61    1   0     148.0  203.0    0  ...      0      0.0      2   1     3       0\n",
              "4   62    0   0     138.0  294.0    1  ...      0      1.9      1   3     2       0\n",
              "\n",
              "[5 rows x 14 columns]"
            ]
          },
          "metadata": {
            "tags": []
          },
          "execution_count": 5
        }
      ]
    },
    {
      "cell_type": "code",
      "metadata": {
        "_uuid": "5132eb43114bf99d5f857f459d0c9d2faffc9644",
        "colab": {
          "base_uri": "https://localhost:8080/",
          "height": 204
        },
        "id": "IG640Do1Y0kC",
        "outputId": "6ea45226-743c-4cda-b69f-7671cfe7a93c"
      },
      "source": [
        "dataset.sample(5)"
      ],
      "execution_count": null,
      "outputs": [
        {
          "output_type": "execute_result",
          "data": {
            "text/html": [
              "<div>\n",
              "<style scoped>\n",
              "    .dataframe tbody tr th:only-of-type {\n",
              "        vertical-align: middle;\n",
              "    }\n",
              "\n",
              "    .dataframe tbody tr th {\n",
              "        vertical-align: top;\n",
              "    }\n",
              "\n",
              "    .dataframe thead th {\n",
              "        text-align: right;\n",
              "    }\n",
              "</style>\n",
              "<table border=\"1\" class=\"dataframe\">\n",
              "  <thead>\n",
              "    <tr style=\"text-align: right;\">\n",
              "      <th></th>\n",
              "      <th>age</th>\n",
              "      <th>sex</th>\n",
              "      <th>cp</th>\n",
              "      <th>trestbps</th>\n",
              "      <th>chol</th>\n",
              "      <th>fbs</th>\n",
              "      <th>restecg</th>\n",
              "      <th>thalach</th>\n",
              "      <th>exang</th>\n",
              "      <th>oldpeak</th>\n",
              "      <th>slope</th>\n",
              "      <th>ca</th>\n",
              "      <th>thal</th>\n",
              "      <th>target</th>\n",
              "    </tr>\n",
              "  </thead>\n",
              "  <tbody>\n",
              "    <tr>\n",
              "      <th>237</th>\n",
              "      <td>57</td>\n",
              "      <td>1</td>\n",
              "      <td>1</td>\n",
              "      <td>124.0</td>\n",
              "      <td>261.0</td>\n",
              "      <td>0</td>\n",
              "      <td>1</td>\n",
              "      <td>141.0</td>\n",
              "      <td>0</td>\n",
              "      <td>0.3</td>\n",
              "      <td>2</td>\n",
              "      <td>0</td>\n",
              "      <td>3</td>\n",
              "      <td>0</td>\n",
              "    </tr>\n",
              "    <tr>\n",
              "      <th>107</th>\n",
              "      <td>62</td>\n",
              "      <td>1</td>\n",
              "      <td>1</td>\n",
              "      <td>120.0</td>\n",
              "      <td>281.0</td>\n",
              "      <td>0</td>\n",
              "      <td>0</td>\n",
              "      <td>103.0</td>\n",
              "      <td>0</td>\n",
              "      <td>1.4</td>\n",
              "      <td>1</td>\n",
              "      <td>1</td>\n",
              "      <td>3</td>\n",
              "      <td>0</td>\n",
              "    </tr>\n",
              "    <tr>\n",
              "      <th>127</th>\n",
              "      <td>53</td>\n",
              "      <td>1</td>\n",
              "      <td>2</td>\n",
              "      <td>130.0</td>\n",
              "      <td>197.0</td>\n",
              "      <td>1</td>\n",
              "      <td>0</td>\n",
              "      <td>152.0</td>\n",
              "      <td>0</td>\n",
              "      <td>1.2</td>\n",
              "      <td>0</td>\n",
              "      <td>0</td>\n",
              "      <td>2</td>\n",
              "      <td>1</td>\n",
              "    </tr>\n",
              "    <tr>\n",
              "      <th>204</th>\n",
              "      <td>66</td>\n",
              "      <td>0</td>\n",
              "      <td>2</td>\n",
              "      <td>146.0</td>\n",
              "      <td>278.0</td>\n",
              "      <td>0</td>\n",
              "      <td>0</td>\n",
              "      <td>152.0</td>\n",
              "      <td>0</td>\n",
              "      <td>0.0</td>\n",
              "      <td>1</td>\n",
              "      <td>1</td>\n",
              "      <td>2</td>\n",
              "      <td>1</td>\n",
              "    </tr>\n",
              "    <tr>\n",
              "      <th>868</th>\n",
              "      <td>56</td>\n",
              "      <td>1</td>\n",
              "      <td>1</td>\n",
              "      <td>120.0</td>\n",
              "      <td>240.0</td>\n",
              "      <td>0</td>\n",
              "      <td>1</td>\n",
              "      <td>169.0</td>\n",
              "      <td>0</td>\n",
              "      <td>0.0</td>\n",
              "      <td>0</td>\n",
              "      <td>0</td>\n",
              "      <td>2</td>\n",
              "      <td>1</td>\n",
              "    </tr>\n",
              "  </tbody>\n",
              "</table>\n",
              "</div>"
            ],
            "text/plain": [
              "     age  sex  cp  trestbps   chol  ...  oldpeak  slope  ca  thal  target\n",
              "237   57    1   1     124.0  261.0  ...      0.3      2   0     3       0\n",
              "107   62    1   1     120.0  281.0  ...      1.4      1   1     3       0\n",
              "127   53    1   2     130.0  197.0  ...      1.2      0   0     2       1\n",
              "204   66    0   2     146.0  278.0  ...      0.0      1   1     2       1\n",
              "868   56    1   1     120.0  240.0  ...      0.0      0   0     2       1\n",
              "\n",
              "[5 rows x 14 columns]"
            ]
          },
          "metadata": {
            "tags": []
          },
          "execution_count": 6
        }
      ]
    },
    {
      "cell_type": "markdown",
      "metadata": {
        "_uuid": "1113236bec2848d33c5bfe088ff0d03246b8b7ce",
        "id": "dK2ACdimY0kC"
      },
      "source": [
        "#### Description"
      ]
    },
    {
      "cell_type": "code",
      "metadata": {
        "_uuid": "c31619815cb0dae5586985671fdc21110b39a821",
        "colab": {
          "base_uri": "https://localhost:8080/",
          "height": 317
        },
        "id": "-MNbd_4gY0kC",
        "outputId": "d3330b1f-f4ee-4ff4-8a1b-d492fe865474"
      },
      "source": [
        "# Description\n",
        "dataset.describe()"
      ],
      "execution_count": null,
      "outputs": [
        {
          "output_type": "execute_result",
          "data": {
            "text/html": [
              "<div>\n",
              "<style scoped>\n",
              "    .dataframe tbody tr th:only-of-type {\n",
              "        vertical-align: middle;\n",
              "    }\n",
              "\n",
              "    .dataframe tbody tr th {\n",
              "        vertical-align: top;\n",
              "    }\n",
              "\n",
              "    .dataframe thead th {\n",
              "        text-align: right;\n",
              "    }\n",
              "</style>\n",
              "<table border=\"1\" class=\"dataframe\">\n",
              "  <thead>\n",
              "    <tr style=\"text-align: right;\">\n",
              "      <th></th>\n",
              "      <th>age</th>\n",
              "      <th>sex</th>\n",
              "      <th>cp</th>\n",
              "      <th>trestbps</th>\n",
              "      <th>chol</th>\n",
              "      <th>fbs</th>\n",
              "      <th>restecg</th>\n",
              "      <th>thalach</th>\n",
              "      <th>exang</th>\n",
              "      <th>oldpeak</th>\n",
              "      <th>slope</th>\n",
              "      <th>ca</th>\n",
              "      <th>thal</th>\n",
              "      <th>target</th>\n",
              "    </tr>\n",
              "  </thead>\n",
              "  <tbody>\n",
              "    <tr>\n",
              "      <th>count</th>\n",
              "      <td>1328.000000</td>\n",
              "      <td>1328.000000</td>\n",
              "      <td>1328.000000</td>\n",
              "      <td>1327.000000</td>\n",
              "      <td>1327.000000</td>\n",
              "      <td>1328.000000</td>\n",
              "      <td>1328.000000</td>\n",
              "      <td>1326.000000</td>\n",
              "      <td>1328.000000</td>\n",
              "      <td>1328.000000</td>\n",
              "      <td>1328.000000</td>\n",
              "      <td>1328.000000</td>\n",
              "      <td>1328.000000</td>\n",
              "      <td>1328.000000</td>\n",
              "    </tr>\n",
              "    <tr>\n",
              "      <th>mean</th>\n",
              "      <td>54.418675</td>\n",
              "      <td>0.692771</td>\n",
              "      <td>0.948042</td>\n",
              "      <td>131.599096</td>\n",
              "      <td>246.069329</td>\n",
              "      <td>0.149096</td>\n",
              "      <td>0.529367</td>\n",
              "      <td>149.288839</td>\n",
              "      <td>0.334337</td>\n",
              "      <td>1.064232</td>\n",
              "      <td>1.388554</td>\n",
              "      <td>0.748494</td>\n",
              "      <td>2.321536</td>\n",
              "      <td>0.520331</td>\n",
              "    </tr>\n",
              "    <tr>\n",
              "      <th>std</th>\n",
              "      <td>9.071150</td>\n",
              "      <td>0.461519</td>\n",
              "      <td>1.029854</td>\n",
              "      <td>17.512648</td>\n",
              "      <td>51.645923</td>\n",
              "      <td>0.356318</td>\n",
              "      <td>0.527220</td>\n",
              "      <td>22.932820</td>\n",
              "      <td>0.471936</td>\n",
              "      <td>1.171519</td>\n",
              "      <td>0.617203</td>\n",
              "      <td>1.028603</td>\n",
              "      <td>0.618543</td>\n",
              "      <td>0.499775</td>\n",
              "    </tr>\n",
              "    <tr>\n",
              "      <th>min</th>\n",
              "      <td>29.000000</td>\n",
              "      <td>0.000000</td>\n",
              "      <td>0.000000</td>\n",
              "      <td>94.000000</td>\n",
              "      <td>126.000000</td>\n",
              "      <td>0.000000</td>\n",
              "      <td>0.000000</td>\n",
              "      <td>71.000000</td>\n",
              "      <td>0.000000</td>\n",
              "      <td>0.000000</td>\n",
              "      <td>0.000000</td>\n",
              "      <td>0.000000</td>\n",
              "      <td>0.000000</td>\n",
              "      <td>0.000000</td>\n",
              "    </tr>\n",
              "    <tr>\n",
              "      <th>25%</th>\n",
              "      <td>48.000000</td>\n",
              "      <td>0.000000</td>\n",
              "      <td>0.000000</td>\n",
              "      <td>120.000000</td>\n",
              "      <td>211.000000</td>\n",
              "      <td>0.000000</td>\n",
              "      <td>0.000000</td>\n",
              "      <td>132.000000</td>\n",
              "      <td>0.000000</td>\n",
              "      <td>0.000000</td>\n",
              "      <td>1.000000</td>\n",
              "      <td>0.000000</td>\n",
              "      <td>2.000000</td>\n",
              "      <td>0.000000</td>\n",
              "    </tr>\n",
              "    <tr>\n",
              "      <th>50%</th>\n",
              "      <td>56.000000</td>\n",
              "      <td>1.000000</td>\n",
              "      <td>1.000000</td>\n",
              "      <td>130.000000</td>\n",
              "      <td>240.000000</td>\n",
              "      <td>0.000000</td>\n",
              "      <td>1.000000</td>\n",
              "      <td>152.000000</td>\n",
              "      <td>0.000000</td>\n",
              "      <td>0.800000</td>\n",
              "      <td>1.000000</td>\n",
              "      <td>0.000000</td>\n",
              "      <td>2.000000</td>\n",
              "      <td>1.000000</td>\n",
              "    </tr>\n",
              "    <tr>\n",
              "      <th>75%</th>\n",
              "      <td>61.000000</td>\n",
              "      <td>1.000000</td>\n",
              "      <td>2.000000</td>\n",
              "      <td>140.000000</td>\n",
              "      <td>275.000000</td>\n",
              "      <td>0.000000</td>\n",
              "      <td>1.000000</td>\n",
              "      <td>166.000000</td>\n",
              "      <td>1.000000</td>\n",
              "      <td>1.800000</td>\n",
              "      <td>2.000000</td>\n",
              "      <td>1.000000</td>\n",
              "      <td>3.000000</td>\n",
              "      <td>1.000000</td>\n",
              "    </tr>\n",
              "    <tr>\n",
              "      <th>max</th>\n",
              "      <td>77.000000</td>\n",
              "      <td>1.000000</td>\n",
              "      <td>3.000000</td>\n",
              "      <td>200.000000</td>\n",
              "      <td>564.000000</td>\n",
              "      <td>1.000000</td>\n",
              "      <td>2.000000</td>\n",
              "      <td>202.000000</td>\n",
              "      <td>1.000000</td>\n",
              "      <td>6.200000</td>\n",
              "      <td>2.000000</td>\n",
              "      <td>4.000000</td>\n",
              "      <td>3.000000</td>\n",
              "      <td>1.000000</td>\n",
              "    </tr>\n",
              "  </tbody>\n",
              "</table>\n",
              "</div>"
            ],
            "text/plain": [
              "               age          sex  ...         thal       target\n",
              "count  1328.000000  1328.000000  ...  1328.000000  1328.000000\n",
              "mean     54.418675     0.692771  ...     2.321536     0.520331\n",
              "std       9.071150     0.461519  ...     0.618543     0.499775\n",
              "min      29.000000     0.000000  ...     0.000000     0.000000\n",
              "25%      48.000000     0.000000  ...     2.000000     0.000000\n",
              "50%      56.000000     1.000000  ...     2.000000     1.000000\n",
              "75%      61.000000     1.000000  ...     3.000000     1.000000\n",
              "max      77.000000     1.000000  ...     3.000000     1.000000\n",
              "\n",
              "[8 rows x 14 columns]"
            ]
          },
          "metadata": {
            "tags": []
          },
          "execution_count": 7
        }
      ]
    },
    {
      "cell_type": "code",
      "metadata": {
        "_uuid": "718b82039841c137ab7e08a6e79e264643134642",
        "colab": {
          "base_uri": "https://localhost:8080/"
        },
        "id": "6LlXYHGIY0kD",
        "outputId": "3ff9b80b-3383-415e-8b29-65c2cf128162"
      },
      "source": [
        "dataset.info()"
      ],
      "execution_count": null,
      "outputs": [
        {
          "output_type": "stream",
          "text": [
            "<class 'pandas.core.frame.DataFrame'>\n",
            "RangeIndex: 1328 entries, 0 to 1327\n",
            "Data columns (total 14 columns):\n",
            " #   Column    Non-Null Count  Dtype  \n",
            "---  ------    --------------  -----  \n",
            " 0   age       1328 non-null   int64  \n",
            " 1   sex       1328 non-null   int64  \n",
            " 2   cp        1328 non-null   int64  \n",
            " 3   trestbps  1327 non-null   float64\n",
            " 4   chol      1327 non-null   float64\n",
            " 5   fbs       1328 non-null   int64  \n",
            " 6   restecg   1328 non-null   int64  \n",
            " 7   thalach   1326 non-null   float64\n",
            " 8   exang     1328 non-null   int64  \n",
            " 9   oldpeak   1328 non-null   float64\n",
            " 10  slope     1328 non-null   int64  \n",
            " 11  ca        1328 non-null   int64  \n",
            " 12  thal      1328 non-null   int64  \n",
            " 13  target    1328 non-null   int64  \n",
            "dtypes: float64(4), int64(10)\n",
            "memory usage: 145.4 KB\n"
          ],
          "name": "stdout"
        }
      ]
    },
    {
      "cell_type": "code",
      "metadata": {
        "_uuid": "99d7182ca186d37f63b1fc433fe74ad5e2bc7d2f",
        "id": "Roq0tBMfY0kD"
      },
      "source": [
        "###Luckily, we have no missing values"
      ],
      "execution_count": null,
      "outputs": []
    },
    {
      "cell_type": "code",
      "metadata": {
        "colab": {
          "base_uri": "https://localhost:8080/"
        },
        "id": "2YjN4503fEts",
        "outputId": "531d9ac6-1146-457b-8ffa-08478a806284"
      },
      "source": [
        "# check whether their is null values or not\n",
        "dataset.isnull().sum()"
      ],
      "execution_count": null,
      "outputs": [
        {
          "output_type": "execute_result",
          "data": {
            "text/plain": [
              "age         0\n",
              "sex         0\n",
              "cp          0\n",
              "trestbps    1\n",
              "chol        1\n",
              "fbs         0\n",
              "restecg     0\n",
              "thalach     2\n",
              "exang       0\n",
              "oldpeak     0\n",
              "slope       0\n",
              "ca          0\n",
              "thal        0\n",
              "target      0\n",
              "dtype: int64"
            ]
          },
          "metadata": {
            "tags": []
          },
          "execution_count": 10
        }
      ]
    },
    {
      "cell_type": "code",
      "metadata": {
        "colab": {
          "base_uri": "https://localhost:8080/"
        },
        "id": "wMxIhfKkfP9A",
        "outputId": "931d8297-7ea0-4472-e1f6-2eeccbae489e"
      },
      "source": [
        "# need to fill the null values\n",
        "dataset = dataset.fillna(dataset.median())\n",
        "dataset.isnull().sum()"
      ],
      "execution_count": null,
      "outputs": [
        {
          "output_type": "execute_result",
          "data": {
            "text/plain": [
              "age         0\n",
              "sex         0\n",
              "cp          0\n",
              "trestbps    0\n",
              "chol        0\n",
              "fbs         0\n",
              "restecg     0\n",
              "thalach     0\n",
              "exang       0\n",
              "oldpeak     0\n",
              "slope       0\n",
              "ca          0\n",
              "thal        0\n",
              "target      0\n",
              "dtype: int64"
            ]
          },
          "metadata": {
            "tags": []
          },
          "execution_count": 11
        }
      ]
    },
    {
      "cell_type": "markdown",
      "metadata": {
        "_uuid": "85b59fefde7c5ecdb50e3b8da0cb719f4e14630f",
        "id": "xZ7DBXNBY0kD"
      },
      "source": [
        "#### Let's understand our columns better:"
      ]
    },
    {
      "cell_type": "code",
      "metadata": {
        "_uuid": "5593d1021d54aad598c21f877e57969e6b47f5a8",
        "colab": {
          "base_uri": "https://localhost:8080/"
        },
        "id": "K435FSYhY0kE",
        "outputId": "5c0f518a-aa67-484f-a2ae-f07554ff9007"
      },
      "source": [
        "# Let's understand our columns better:\n",
        "info = [\"age\",\"1: male, 0: female\",\"chest pain type, 1: typical angina, 2: atypical angina, 3: non-anginal pain, 4: asymptomatic\",\"resting blood pressure\",\" serum cholestoral in mg/dl\",\"fasting blood sugar > 120 mg/dl\",\"resting electrocardiographic results (values 0,1,2)\",\" maximum heart rate achieved\",\"exercise induced angina\",\"oldpeak = ST depression induced by exercise relative to rest\",\"the slope of the peak exercise ST segment\",\"number of major vessels (0-3) colored by flourosopy\",\"thal: 3 = normal; 6 = fixed defect; 7 = reversable defect\"]\n",
        "\n",
        "\n",
        "\n",
        "for i in range(len(info)):\n",
        "    print(dataset.columns[i]+\":\\t\\t\\t\"+info[i])"
      ],
      "execution_count": null,
      "outputs": [
        {
          "output_type": "stream",
          "text": [
            "age:\t\t\tage\n",
            "sex:\t\t\t1: male, 0: female\n",
            "cp:\t\t\tchest pain type, 1: typical angina, 2: atypical angina, 3: non-anginal pain, 4: asymptomatic\n",
            "trestbps:\t\t\tresting blood pressure\n",
            "chol:\t\t\t serum cholestoral in mg/dl\n",
            "fbs:\t\t\tfasting blood sugar > 120 mg/dl\n",
            "restecg:\t\t\tresting electrocardiographic results (values 0,1,2)\n",
            "thalach:\t\t\t maximum heart rate achieved\n",
            "exang:\t\t\texercise induced angina\n",
            "oldpeak:\t\t\toldpeak = ST depression induced by exercise relative to rest\n",
            "slope:\t\t\tthe slope of the peak exercise ST segment\n",
            "ca:\t\t\tnumber of major vessels (0-3) colored by flourosopy\n",
            "thal:\t\t\tthal: 3 = normal; 6 = fixed defect; 7 = reversable defect\n"
          ],
          "name": "stdout"
        }
      ]
    },
    {
      "cell_type": "markdown",
      "metadata": {
        "_uuid": "6a970312b67b588610a8579ecc2ba4bac0fcee04",
        "id": "L8mYDiBoY0kE"
      },
      "source": [
        "#### Analysing the 'target' variable"
      ]
    },
    {
      "cell_type": "code",
      "metadata": {
        "_uuid": "b883243919bd382193ed15e2a90f9b522bf6f1f7",
        "colab": {
          "base_uri": "https://localhost:8080/"
        },
        "id": "OB3nM-OMY0kE",
        "outputId": "ac8be0f7-8f09-468f-8015-56f43a128f8c"
      },
      "source": [
        "# Analysing the 'target' variable\n",
        "dataset[\"target\"].describe()"
      ],
      "execution_count": null,
      "outputs": [
        {
          "output_type": "execute_result",
          "data": {
            "text/plain": [
              "count    1328.000000\n",
              "mean        0.520331\n",
              "std         0.499775\n",
              "min         0.000000\n",
              "25%         0.000000\n",
              "50%         1.000000\n",
              "75%         1.000000\n",
              "max         1.000000\n",
              "Name: target, dtype: float64"
            ]
          },
          "metadata": {
            "tags": []
          },
          "execution_count": 13
        }
      ]
    },
    {
      "cell_type": "code",
      "metadata": {
        "_uuid": "9c107b83e0148914826282bf1f0ab28505d577ab",
        "colab": {
          "base_uri": "https://localhost:8080/"
        },
        "id": "TPGxIyJ9Y0kF",
        "outputId": "6f541378-022a-4951-ceef-6d36b31951d9"
      },
      "source": [
        "# unique value in target columns (will have only 0 &1 )\n",
        "dataset[\"target\"].unique()"
      ],
      "execution_count": null,
      "outputs": [
        {
          "output_type": "execute_result",
          "data": {
            "text/plain": [
              "array([0, 1])"
            ]
          },
          "metadata": {
            "tags": []
          },
          "execution_count": 14
        }
      ]
    },
    {
      "cell_type": "markdown",
      "metadata": {
        "_uuid": "8c96e97e3f52844e8c4c6ff069f53bfe97c9982d",
        "id": "Ee2RQQRPY0kF"
      },
      "source": [
        "#### Clearly, this is a classification problem, with the target variable having values '0' and '1'"
      ]
    },
    {
      "cell_type": "markdown",
      "metadata": {
        "_uuid": "3ae0dfa26e2daf4cfc8e1c6f3b5008d0dab22ec0",
        "id": "4zYw-NfaY0kF"
      },
      "source": [
        "### Checking correlation between columns"
      ]
    },
    {
      "cell_type": "code",
      "metadata": {
        "_uuid": "3059188d3874be2e0c80e13655609ac6a6fc644f",
        "colab": {
          "base_uri": "https://localhost:8080/"
        },
        "id": "X4qcdqjGY0kG",
        "outputId": "6bf4c659-4050-42ef-fba3-8c6eceb7763b"
      },
      "source": [
        "# Checking correlation between columns\n",
        "print(dataset.corr()[\"target\"].abs().sort_values(ascending=False))"
      ],
      "execution_count": null,
      "outputs": [
        {
          "output_type": "stream",
          "text": [
            "target      1.000000\n",
            "exang       0.437802\n",
            "oldpeak     0.436815\n",
            "cp          0.434704\n",
            "thalach     0.421219\n",
            "ca          0.384375\n",
            "slope       0.345709\n",
            "thal        0.339286\n",
            "sex         0.280008\n",
            "age         0.228442\n",
            "trestbps    0.139202\n",
            "restecg     0.135011\n",
            "chol        0.096608\n",
            "fbs         0.038194\n",
            "Name: target, dtype: float64\n"
          ],
          "name": "stdout"
        }
      ]
    },
    {
      "cell_type": "code",
      "metadata": {
        "_uuid": "6e8cf6f86952d94764c1021207fa5b383b2b84bf",
        "id": "9pgwMmMEY0kG"
      },
      "source": [
        "This shows that most columns are moderately correlated with target, but 'fbs' is very weakly correlated."
      ],
      "execution_count": null,
      "outputs": []
    },
    {
      "cell_type": "markdown",
      "metadata": {
        "_uuid": "d1c95f2180e264978c85703ece34898dab4d522b",
        "id": "QWKSeqUYY0kT"
      },
      "source": [
        "## III. Train Test split"
      ]
    },
    {
      "cell_type": "code",
      "metadata": {
        "_uuid": "829fcda5b63e1b9f7ecb7762e8ca617166533aca",
        "id": "GcTJMsl_Y0kT"
      },
      "source": [
        "from sklearn.model_selection import train_test_split\n",
        "\n",
        "predictors = dataset.drop(\"target\",axis=1)\n",
        "target = dataset[\"target\"]\n",
        "\n",
        "X_train,X_test,Y_train,Y_test = train_test_split(predictors,target,test_size=0.20,random_state=0)"
      ],
      "execution_count": null,
      "outputs": []
    },
    {
      "cell_type": "code",
      "metadata": {
        "_uuid": "7a74842015c2f193d16caa4fa25e2c4cbf1940f8",
        "colab": {
          "base_uri": "https://localhost:8080/"
        },
        "id": "nugdiNR0Y0kU",
        "outputId": "5c9e7dfc-9126-4874-b573-462d38157db9"
      },
      "source": [
        "# shape of X_train\n",
        "X_train.shape"
      ],
      "execution_count": null,
      "outputs": [
        {
          "output_type": "execute_result",
          "data": {
            "text/plain": [
              "(1062, 13)"
            ]
          },
          "metadata": {
            "tags": []
          },
          "execution_count": 18
        }
      ]
    },
    {
      "cell_type": "code",
      "metadata": {
        "_uuid": "1f777652df4521deb877dac4d5d635d8cd35b279",
        "colab": {
          "base_uri": "https://localhost:8080/"
        },
        "id": "LgLVlmyjY0kU",
        "outputId": "2ae4b907-581d-4dd3-d6d4-0bbdf87d6443"
      },
      "source": [
        "# shape of Y_test\n",
        "X_test.shape"
      ],
      "execution_count": null,
      "outputs": [
        {
          "output_type": "execute_result",
          "data": {
            "text/plain": [
              "(266, 13)"
            ]
          },
          "metadata": {
            "tags": []
          },
          "execution_count": 19
        }
      ]
    },
    {
      "cell_type": "code",
      "metadata": {
        "_uuid": "028c968a076840657faf7dbc3bfee9fe7b5ca45a",
        "colab": {
          "base_uri": "https://localhost:8080/"
        },
        "id": "rFlbVDduY0kU",
        "outputId": "94402282-5bd7-4c4e-cca4-5e9a3fe65eb2"
      },
      "source": [
        "# shape of Y_train\n",
        "Y_train.shape"
      ],
      "execution_count": null,
      "outputs": [
        {
          "output_type": "execute_result",
          "data": {
            "text/plain": [
              "(1062,)"
            ]
          },
          "metadata": {
            "tags": []
          },
          "execution_count": 20
        }
      ]
    },
    {
      "cell_type": "code",
      "metadata": {
        "_uuid": "eb6857dfc18da52dae38bec95d20106f39136e61",
        "colab": {
          "base_uri": "https://localhost:8080/"
        },
        "id": "3_jhPjWoY0kU",
        "outputId": "31a63741-370a-4317-d37f-f0858b53fb5a"
      },
      "source": [
        "# shape of X_test\n",
        "Y_test.shape"
      ],
      "execution_count": null,
      "outputs": [
        {
          "output_type": "execute_result",
          "data": {
            "text/plain": [
              "(266,)"
            ]
          },
          "metadata": {
            "tags": []
          },
          "execution_count": 21
        }
      ]
    },
    {
      "cell_type": "code",
      "metadata": {
        "_uuid": "fe363c1be8335a48a4444660db5fa6bd0a24b71a",
        "id": "bB4SwIGhY0kV"
      },
      "source": [
        "from sklearn.metrics import accuracy_score"
      ],
      "execution_count": null,
      "outputs": []
    },
    {
      "cell_type": "markdown",
      "metadata": {
        "_uuid": "4f92fceb9584ae03d3ab370ee11899cb287be690",
        "id": "95NmsXaIY0kW"
      },
      "source": [
        "### Naive Bayes"
      ]
    },
    {
      "cell_type": "code",
      "metadata": {
        "_uuid": "ffcdab99b4108902547f0179a242a9757078dc68",
        "id": "daWS5EUnY0kW"
      },
      "source": [
        "from sklearn.naive_bayes import GaussianNB\n",
        "\n",
        "nb = GaussianNB()\n",
        "\n",
        "nb.fit(X_train,Y_train)\n",
        "\n",
        "Y_pred_nb = nb.predict(X_test)"
      ],
      "execution_count": null,
      "outputs": []
    },
    {
      "cell_type": "code",
      "metadata": {
        "_uuid": "9109059d06e4c92494451b3cdab0bbb5a1816072",
        "colab": {
          "base_uri": "https://localhost:8080/"
        },
        "id": "m8gFdZzDY0kX",
        "outputId": "ba927da9-fec8-4773-884d-d095e606d1ba"
      },
      "source": [
        "# check the shape of predicted \n",
        "Y_pred_nb.shape"
      ],
      "execution_count": null,
      "outputs": [
        {
          "output_type": "execute_result",
          "data": {
            "text/plain": [
              "(266,)"
            ]
          },
          "metadata": {
            "tags": []
          },
          "execution_count": 24
        }
      ]
    },
    {
      "cell_type": "code",
      "metadata": {
        "colab": {
          "base_uri": "https://localhost:8080/"
        },
        "id": "MWcmVGta5VOx",
        "outputId": "1b575458-964d-4f8c-ce8f-ba930a5c980f"
      },
      "source": [
        "score_nb = round(accuracy_score(Y_test,Y_pred_nb)*100,2)\n",
        "\n",
        "print(\"The accuracy score achieved using Naive Bayes is: \"+str(score_nb)+\" %\")\n"
      ],
      "execution_count": null,
      "outputs": [
        {
          "output_type": "stream",
          "text": [
            "The accuracy score achieved using Naive Bayes is: 81.95 %\n"
          ],
          "name": "stdout"
        }
      ]
    },
    {
      "cell_type": "code",
      "metadata": {
        "colab": {
          "base_uri": "https://localhost:8080/"
        },
        "id": "bRojuBCZPjMC",
        "outputId": "d207c5af-86cd-4661-915a-c00961e93b94"
      },
      "source": [
        "# make confusion matrix \n",
        "from sklearn.metrics import confusion_matrix\n",
        "print(confusion_matrix(Y_test,Y_pred_nb))"
      ],
      "execution_count": null,
      "outputs": [
        {
          "output_type": "stream",
          "text": [
            "[[103  31]\n",
            " [ 17 115]]\n"
          ],
          "name": "stdout"
        }
      ]
    },
    {
      "cell_type": "markdown",
      "metadata": {
        "id": "wG3A1FojwWIX"
      },
      "source": [
        "### Confusion matrix\n",
        "![image.png](data:image/png;base64,iVBORw0KGgoAAAANSUhEUgAAArUAAAEsCAYAAADdIUtXAAAgAElEQVR4Ae2dPbbkyJKceyMj1TJmAb2EWUPJswGqpQxXQLmFmQ1QLoEKqVJrlctg8VhzrJ+XVwQCgGcgEokvz7kEMn48PL4wB+zeeez67QcfCEAAAhCAAAQgAAEI3JzAbzfPn/QhAAEIQAACEIAABCDwA1OLCCAAAQhAAAIQgAAEbk8AU3v7I2QDEIAABCAAAQhAAAKYWjQAAQhAAAIQgAAEIHB7Apja2x8hG4AABCAAAQhAAAIQwNSiAQhAAAIQgAAEIACB2xPA1N7+CNkABCAAAQhAAAIQgACmFg1AAAIQgAAEIAABCNyeAKb29kfIBiAAAQhAAAIQgAAEMLVoAAIQgAAEIAABCEDg9gQwtbc/QjYAAQhAAAIQgAAEIICpRQMQgAAEIAABCEAAArcnMDS1v/322w9+YIAG0AAaQANoAA2gATQwWwMVZ73L1FYWYC4EIHCOgB4cfCAAgesJUHvXM2dFCIhAtfaGb83qAhwTBCBwjgC1d44bsyBQJUDtVQkyHwLnCFRrD1N7jjuzIDCdQLW4pyfIAhD4UALU3oceLNt6ewLV2sPUvv0Rk+BTCewt7i9fvvzyv3v/888/p2JTbt+/f/9pjW/fvv2Vxx9//PFT+4ovv//++w/ls+fTylt728t/zxqvGqN9Ka/Z5/uqfO8aZ+/ZU3u/nvCR2nOdibd/NH/Gx2d1Nja1d5bcsXl7a68XFVPbI0M7BBYT2FvcelhHA2eTlk3nK7ej3HJ8r3vG1MqktWKezfnIi1V5a7w4+uOXrb9fcf369etfeWytxYt1i87r+qi98yyP1J7rLP6SpjqMtXg+k59nKmbvXKm9n1mt/NY7o705YWr3kmIcBC4msLe49bCOplZpttpemb5yy6a2Ev8dTK1ebN6TX7aVPR2du+fFejQm488RoPbOcdOsqql17UWjez6bfTOpvX2crhi1t/Z6uWBqe2Roh8BiAnuLu2VgY5v+cqoXjY2j4qo/fvxXVvXpx+bOYxTDfb56jF9Cud1zffVfGT1OMWNObvc1GvU8Ti+h+Mn9ihHnx7H5XuOUm/JxXO8pjhUz55b5aZz74lUx/cn7V876aM04J957bj4ft+vqs3E892k970dtOYbPz+O5/oOAzmDPJ9aZx8c2nY3OIeoza2d0Lj7fqAufnXXqPrc7F1+z9hQz5uT5vionf/K4qCmNyf2KEec7Tuvq/BXDn1ab8/LVY311u6+RQ6yvzD72ea6vjp3Px+26+mxi/mqn9iKlY/fiX/kMZ1cXqCTHXAg8mcDe2osvUfHyQ9js/OCN8eIcjY8Pe4/3g9rfHU9XxYovDrX55Zbb1af4etD3PltzW31a3y/OVr/Wcn9vTbdrnHMzB79YPSbyUpvGe46+5/6Yn/q1RuSil6nX8hpqizHdHq+ts1B/Xt9MdNVH68f1HMf9cQ3u9/9nhTJ3cY51Zs6xLc4ZnYvnxzNRrKgl9fm8c7v6tN6Wrrbmtvqitlv9Wkv72vNxnSmOP8pXteBPXE9tuXa0XhzvefmaWcd+ai/SWHsfa+VMJpjaM9SYA4ELCOwtbr0ENNY/+h4/fjHGF4ce4n4RaLzGxE9sa72ktFZ+gbZecIrpF1eMn+97czVOL6P8Uo5t8d5xWzm7L1/jfN2LRcw53ntubHPuPb6eE68+k9hWebEq73jucU9aI56n12y1ue/pV2rv/ysg60itsS3eWzNHas915GeXrorpj+6jrt0enz9arzXGY33txVI/tWdK6697a6+XKaa2R4Z2CCwmsLe49UCPL4KctgzU1kNf67R+HFNzs+nVeL2Q4sfmLreP1leM3lz16YXTys97Ur9+4ufIi1X71Hh9lIfu/bJVmw1oKwcb2XwGGmt+iuF4OcZfi/7n/1N5sSqEYsd84pnldf095hhzefq9+Oz55HPPc0ba9znkq8/l02vPdWHdZn6xNmOfeEV9q2bN0LUcx+tesfzMyH3UXiay7rvOsfIZzq4uUEmOuRB4MoG9tVd9sbZenJF7q1+5ZfOqF1Or3aYwxsz3vbka13uxOcYrTa1i6qUYc/aL1+u1rmKkvfsnm2y126hofozveNUXq+ZrDeWrfOKndYaxn/ufCei89nzENZ5rnqNzzmcRx4zOpdWv3D6l9lxbW6Y289t6Voitxuf6U7vOKcfyWVB7JrH+urf2epkOK7e6QG9h2iEAgW0Ce2tPD+rKi1UP9N7DXhnmB77y0s/eF6tiaHzrRRMJaExrH37x5fU8NxtE/9WmFctz4lXj4l93FM8xPK6Xm/qdn8fmq1/CiuuPeCtm/CiP3Bb7dZ/3GvuVh7WQ9z464xiH+/P/m9rMTuc1qq1Rf9Sm9KGfXAvWWG5XPhr/rrXn2umZWu8r1k5+HmXm6m/tVzXRY03tZYrrvo+egaPMfn6qNkZXF2iEpAkCENhBYG/t2cj0Qo5erJqnl4DWiz/xRaM13Gfz5BeoXwju9zW+iLSG233N/X7BuT8as9ynMbE/5q92fY/9PTZq17hoHGKucZ7z8jXOsQl2n66xX2vEPn+P8XWf47g/tztWPCON9TnldvVFRr35Xu/pV/HZ86H2ftaVdH2k9lzXLb2av/qsV11jXWlM7Gv1uybyOMf3NddYr91xcs5eJ7crDrVnmuOr+FY+w9nVBSrJMRcCTyZA7d3j9GXOW2eltmzc77EjsmydJ1QgAIH5BKq1h6mdf0asAIFTBKrFfWpRJh0m0Pqrq/8CpSuf+xGg9u53ZmT8GQSqtYep/QwdsIsPJFAt7g9E8rZbyv+nS50dhvZtj2uYGLU3RMQACEwhUK09TO2UYyEoBOoEqsVdz4AIEHgmAWrvmefOrtcTqNYepnb9GZIBBJoEqsXdDEojBCAwJEDtDRExAAJTCFRrD1M75VgICoE6gWpx1zMgAgSeSYDae+a5s+v1BKq1h6ldf4ZkAIEmgWpxN4PSCAEIDAlQe0NEDIDAFALV2sPUTjkWgkKgTqBa3PUMiACBZxKg9p557ux6PYFq7WFq158hGUCgSaBa3M2gNEIAAkMC1N4QEQMgMIVAtfYwtVOOhaAQqBOoFnc9AyJA4JkEqL1nnju7Xk+gWnuY2vVnSAYQaBKoFnczKI0QgMCQALU3RMQACEwhUK09TO2UYyEoBOoEqsVdz4AIEHgmAWrvmefOrtcTqNYepnb9GZIBBJoEqsXdDEojBCAwJEDtDRExAAJTCFRrD1M75VgICoE6gWpx1zMgAgSeSYDae+a5s+v1BKq1h6ldf4ZkAIEmgWpxN4PSCAEIDAlQe0NEDIDAFALV2sPUTjkWgkKgTqBa3PUMiACBZxKg9p557ux6PYFq7WFq158hGUCgSaBa3M2gNEIAAkMC1N4QEQMgMIVAtfYwtVOOhaAQqBOoFnc9AyJA4JkEqL1nnju7Xk+gWnuY2vVnSAYQaBKoFnczKI0QgMCQALU3RMQACEwhUK09TO2UYyEoBOoEqsVdz4AIEHgmAWrvmefOrtcTqNYepnb9GZIBBJoEqsXdDEojBCAwJEDtDRExAAJTCFRrD1M75VgICoE6gWpx1zMgAgSeSYDae+a5s+v1BKq1h6ldf4ZkAIEmgWpxN4PSCAEIDAlQe0NEDIDAFALV2sPUTjkWgkKgTqBa3PUMiACBZxKg9p557ux6PYFq7WFq158hGUCgSaBa3M2gNEIAAkMC1N4QEQMgMIVAtfYwtVOOhaAQqBOoFnc9AyJA4JkEqL1nnju7Xk+gWnuY2vVnSAYQaBKoFnczKI0QgMCQALU3RMQACEwhUK09TO2UYyEoBOoEqsVdz4AIEHgmAWrvmefOrtcTqNYepnb9GZIBBJoEqsXdDEojBCAwJEDtDRExAAJTCFRrD1M75VgICoE6gWpx1zMgAgSeSYDae+a5s+v1BKq1h6ldf4ZkAIEmgWpxN4PSCAEIDAlQe0NEDIDAFALV2sPUTjkWgkKgTqBa3PUMiACBZxKg9p557ux6PYFq7WFq158hGUCgSaBa3M2gNEIAAkMC1N4QEQMgMIVAtfYwtVOOhaAQqBOoFnc9AyJA4JkEqL1nnju7Xk+gWnuY2vVnSAYQaBKoFnczKI0QgMCQALU3RMQACEwhUK09TO2UYyEoBOoEqsVdz4AIEHgmAWrvmefOrtcTqNYepnb9GZIBBJoEqsXdDEojBCAwJEDtDRExAAJTCFRrD1M75VgICoE6gWpx1zMgAgSeSYDae+a5s+v1BKq1h6ldf4ZkAIEmgWpxN4PSCAEIDAlQe0NEDIDAFALV2sPUTjkWgkKgTqBa3PUMiACBZxKg9p557ux6PYFq7WFq158hGUCgSaBa3M2gNEIAAkMC1N4QEQMgMIVAtfYwtVOOhaAQqBOoFnc9AyJA4JkEqL1nnju7Xk+gWnuY2vVnSAYQaBKoFnczKI0QgMCQALU3RMQACEwhUK09TO2UYyEoBOoEqsVdz4AIEHgmAWrvmefOrtcTqNYepnb9GZIBBJoEqsXdDEojBCAwJEDtDRExAAJTCFRrD1M75VgICoE6gWpx1zMgAgSeSYDae+a5s+v1BKq1t8vUahF+YIAG0AAaQANoAA2gATQwUwMVa73L1FYWYC4EIHCOgB4afCAAgesJUHvXM2dFCIhAtfaGb83qAhwTBCBwjgC1d44bsyBQJUDtVQkyHwLnCFRrD1N7jjuzIDCdQLW4pyfIAhD4UALU3oceLNt6ewLV2nu5qf3y5ctffz7+/v37W8H7888/f/rfBf/xxx+H8vv69esv+1IM7ffdPhLFO+b1bpzePZ9qcb/7/t4hPz2nxLn18/vvv/+Vop9pMV89D/Rz5KPnhdb59u3bL9NyHvH5lJ9divFuz9dfNnTzBjHmcz0B10iuR2fi93Dsj7Xicb1rrjPFUX3lj/No1Woey/fXEqjW3rByjywgwegFIOGdEYOF9FpEv0bTno4UgiJoT3rJ+UWnNsW42jxq/dHLVPu7Oq9fKdNSJXCk9qprMb9fz6ol1V18pqkGR3UYmfq5qGuMozF+0dqo+jno7zGO7t3fehnnsXw/R4DaO8etOmv0TvV72Ou4dnJNuX901bx81lu1OopHf51APo+jEV9qaiUQiW4kzF6Sflj3+l/VLmha68jHLzG93PwyObvPI+vmsXtMbZ7D93sSqBb3PXe9LutePesll/v8PNiTrZ6Lft60TG0r1lad+y+3fg7tyYExxwhQe8d4vWp0rrMcV7Wi2oifVlvs37q3KfaYUa16HNd5BKq191JTqwe2RLL10FXC8UdjJeTYFu/914qWcDXOLwshznEk0NYnz2uNyW1+8Sim4+YC9L6dv+bET+73OO9RY92mq3j6o0KOfb7vjcmFr5w1J3/ySzavk8fz/ToCrfO6bvXnrZTr2QRUI+pTbbhW/TzwmL3XXG+a5/iOoTV09mpvfVTLub5b42g7T4DaO8+uMrNXg47Z8gGtNo8fXbfquFWro3j01wlUa+9Xl5Ny2ruADZunZ0G434bQ4+JVgu6t1xKuxmqOPoqvMf74xeCXkNt1jfNi+9Z9FL9fNrEAvb+4ntaJ+43rerzz19r5RaV14p48JrflvNWfY2lMXF/fzcjzNSfG1r336jFcryOg8+JzHYFYz3FV1YD6VC+uD119r7rRWeUf9+dY8ZmgPs3zc0Nz9F3r6eqPnxdeQ9/5zCMQ2c9bhciZQK8GPU71Ed9tfoe5fvbUoue4lhw7X1X3uVbzGL6/nkC19v7x1OzktncBHX4U2+h7a7n8II9jspjVp9w0p/fp9ffae3HUrvX143sVRizAvF+Ni20upL8C/Of/I14a0/u09qw5zuPIPI3N8fTdsfzSjC/LVltvTdpfT2Bv7b1+5WdGjPUcCdjUqs2/5MXaiWNH960Xpc7ZzwfX49az0GN15TOHALU3h+soqnUv/v6JvkL14XZf4ztrFD/3e71WjFat5vl8fz0BnWvlM5y9d4Fs0PzgtVj2vAQssNaGND+KW2OUm+b4IxFa6L7Gfo/L89y+dY35a2/6rtjxJec149X9ih3XtWGM+cngxrm6z3vWd6299Wmx0niv6bmK7xejzyuvH8d4HtdrCIg9n+sIxHqOq6qGXaeqUd3H54FqslU3rTpVrPyLrNpynfVycV5xfbdxfR0Bau91LI9E2qP7/E6M8Y/UoudpTq5J9bVq1XO4ziNQrb3hW3PPAjZLGpt//DLoGa2IRmN767Xma2yMLxHGT+zf0x7H5Pv8EtFasQBVFFvFpniZTSwkm0qbTI1v7VlrqH3r05rn8ZqvvPUT8/UZ6srnPQj0auE9svu8LGI9x9251tWm+nANjuowxvB960XZqle1bcV3Do7L9bUEqL3X8twbrVeDnt+qFfedvbZqUrF67WfXYd4+AtXae4mp7QlRD14bJ5s2je19PCYaO4+VAYybleD03fHiWprj8e53HF3jvNi+dZ9fMjaxykOfrdzV32PkNdWvvGwqbTLNz+OUh9d0W75uFb7WUUyNyWwUV+183oNA1Pt7ZPTZWfRqVHURa8XPmjO1oljxl1kRzc8Of/ezIFNXLvFZkfv5XidA7dUZnonQq0HH2nq3ecyRq31Ca06rVlvjaHstgWrtvcTU2iTlrfnh63Y/rJW0f/KD2yJzv+b4I5G53eLXVR+bQPdL/PFl5Fzc72t+wXitfFW8+BLzelrDn9b+YvyYv9ePMcXR7bpqrtryJ8aJ68e5vo/9juM+f4/XGFvjWvPjeO7nERB/PtcR8DMlr6ga8HNGfX6WxNrNc+J3j3fd+RprO4+Jz73cR01GunPuqb05XEdRpfUtfavmYt2M4uX+7C9yrFxrrVrNMfn+WgLV2hu+NasLvHa7942mYsrFamMcX2D33SGZv5oAtfdqosSDwD4C1N4+ToyCwKsJVGsPU/vqE+nE02+Y2dT6t8L81+pOCJofRqBa3A/DxXYh8DIC1N7LUBIIAocIVGsPU3sId22wTK0OLP5gaGtMP3l2tbg/mQ17g8BMAtTeTLrEhkCfQLX2MLV9tvRAYCmBanEvTZ7FIXBjAtTejQ+P1G9NoFp7mNpbHz/JfzKBanF/Mhv2BoGZBKi9mXSJDYE+gWrtYWr7bOmBwFIC1eJemjyLQ+DGBKi9Gx8eqd+aQLX2MLW3Pn6S/2QC1eL+ZDbsDQIzCVB7M+kSGwJ9AtXaw9T22dIDgaUEqsW9NHkWh8CNCVB7Nz48Ur81gWrtYWpvffwk/8kEqsX9yWzYGwRmEqD2ZtIlNgT6BKq1h6nts6UHAksJVIt7afIsDoEbE6D2bnx4pH5rAtXaw9Te+vhJ/pMJVIv7k9mwNwjMJEDtzaRLbAj0CVRrD1PbZ0sPBJYSqBb30uRZHAI3JkDt3fjwSP3WBKq1h6m99fGT/CcTqBb3J7NhbxCYSYDam0mX2BDoE6jWHqa2z5YeCCwlUC3upcmzOARuTIDau/HhkfqtCVRrD1N76+Mn+U8mUC3uT2bD3iAwkwC1N5MusSHQJ1CtPUxtny09EFhKoFrcS5NncQjcmAC1d+PDI/VbE6jWHqb21sdP8p9MoFrcn8yGvUFgJgFqbyZdYkOgT6Bae5jaPlt6ILCUQLW4lybP4hC4MQFq78aHR+q3JlCtPUztrY+f5D+ZQLW4P5kNe4PATALU3ky6xIZAn0C19jC1fbb0QGApgWpxL02exSFwYwLU3o0Pj9RvTaBae5jaWx8/yX8ygWpxfzIb9gaBmQSovZl0iQ2BPoFq7WFq+2zpgcBSAtXiXpo8i0PgxgSovRsfHqnfmkC19jC1tz5+kv9kAtXi/mQ27A0CMwlQezPpEhsCfQLV2sPU9tnSA4GlBKrFvTR5FofAjQlQezc+PFK/NYFq7WFqb338JP/JBKrF/cls2BsEZhKg9mbSJTYE+gSqtYep7bOlBwJLCVSLe2nyLA6BGxOg9m58eKR+awLV2sPU3vr4Sf6TCVSL+5PZsDcIzCRA7c2kS2wI9AlUaw9T22dLDwSWEqgW99LkWRwCNyZA7d348Ej91gSqtYepvfXxk/wnE6gW9yezYW8QmEmA2ptJl9gQ6BOo1h6mts+WHggsJVAt7qXJszgEbkyA2rvx4ZH6rQlUaw9Te+vjJ/lPJlAt7k9mw94gMJMAtTeTLrEh0CdQrT1MbZ8tPRBYSqBa3EuTZ3EI3JgAtXfjwyP1WxOo1h6m9tbHT/KfTKBa3J/Mhr1BYCYBam8mXWJDoE+gWnuY2j5beiCwlEC1uJcmz+IQuDEBau/Gh0fqtyZQrT1M7a2Pn+Q/mUC1uD+ZDXuDwEwC1N5MusSGQJ9AtfYwtX229EBgKYFqcS9NnsUhcGMC1N6ND4/Ub02gWnuY2lsfP8l/MoFqcX8yG/YGgZkEqL2ZdIkNgT6Bau1havts6YHAUgLV4l6aPItD4MYEqL0bHx6p35pAtfYwtbc+fpL/ZALV4v5kNuwNAjMJUHsz6RIbAn0C1drD1PbZ0gOBpQSqxb00eRaHwI0JUHs3PjxSvzWBau1ham99/CT/yQSqxf3JbNgbBGYSoPZm0iU2BPoEqrWHqe2zpQcCSwlUi3tp8iwOgRsToPZufHikfmsC1drD1N76+En+kwlUi/uT2bA3CMwkQO3NpEtsCPQJVGsPU9tnSw8ElhKoFvfS5FkcAjcmQO3d+PBI/dYEqrWHqb318ZP8JxOoFvcns2FvEJhJgNqbSZfYEOgTqNbeLlOrRfiBARpAA2gADaABNIAG0MBMDfQt77hnl6kdh2EEBCDwagJ6aPCBAASuJ0DtXc+cFSEgAtXaG741qwtwTBCAwDkC1N45bsyCQJUAtVclyHwInCNQrT1M7TnuzILAdALV4p6eIAtA4EMJUHsferBs6+0JVGvv5ab2y5cvf/35+Pv3728F788///zpfxf8xx9/HMpP4wU7/nz9+vVQjD2Dnefvv/++Z3hzjHLUOfC5N4Fqcd979+uyb9V6PAs/42KGehYcfR54nW/fvsVQP1T78Tnj+8oz4acF+DIkEM97OJgBpwjII1jb+Wqtq6Zy39F3t5Lr1ZoT3+rP6+v7u/kb7+MTruJb+QxnH1lAB60HvoSYH9R7krSw9oytjNGejhZGKzfFcfFV8olzR6ZW641ensoLUxup3vP+SO3dc4fvmbVqfat+1Kc6jM841eSoLuNu/ZzUNcaJY+J9Xi/2cf96AtTe65luRezVnGoqvmNthPfUjNcb1dqoX1rQe5nPNQSqtfdSUyuhSYQ9gY6QtIzjaM6ZfkHTWkc+rdxabUdinhm7x9Seicuc9yNQLe7329E9MlJd60XX+6gvjzliavWc1Hx9FGv0gvaLnBdr70Re307tvZ7pVsRcTx6bTa3aW20en6+jWhv1K560QO1lsvO+V2vvpaZWD2g9gP3XxpYQlHD80RgJOrbFe8XTpyVkjfPLQWNynN7LIs/bczyOHcfmNr98nH/8DVPzzMX9ukZG4uc+7Td+FMt98ao5/sQxeW2x0Lz8yS/VGKM1Ps/n+zwC8J/Hdiuy6jrWVR6rPo1RrcTnU67ZPK/1Pddfa4zWORO7FYu2fQSovX2cXjWqV3Ot936rbU8eo1rr9UsL8T29Zy3GnCdQrb1fXU7KZe8CNmyengXi/p7R1LxsEh1L15aQlZvm6KP48cFvg+mXTowV58X2rftWborj/bTWE4OYU2bSW2/rJbbV53gtVurL+3bOnpdjK45y5rOGgM6Lz/UEei9YZ6Ka0BjVj+tbV9+rjnR2+cf9jqPr6Jng56aufK4jQO1dx1or9WpONaN68sfvLF31eWWt9Wox17Hf+c6J62sJVGtv+Nbcu4AOOopv9L2FoWUcPS6LW+3KTXN6n15/r70XR+3OTXP9E9fW3vNLywXouCqayMjt+dqK5TFbfR7TYqW+3K7vzrn18my1eQ2u8wlIZ3yuJ9Cq9Vi3NrXKTPf6xFo6knHvReoYuWbdznUuAWpvLt8cXTXnWop90r/ft76e/QVvVGujfuXldzrGNp7Sa++rtTd8a+5dQA/9eNA+fAtwz0PfL5MWotbDXblFYylRWvi+xn7HzfPcvnXdyk3z8v7VlhmoLeaoPbU+W8Z1q8+xWqzUZ5PqceKgHPVxruYWrx7jeVyvIaAz4HM9AdW66rT3UZ+fK3rm6T4+31SjsX5836p3xYrPzbim65X6i1Suuaf2ruHsVXo113uXed6rak3xtmrR6+mqNfXDZw6Bau0N35p7FvDD1w/vePXDfyRO4dHY3nqt+Rob4+cXUeyP+HvtcUy+38pNYyXy/NIazVEerRdaK5bz2erzmBYr92m+8tKP7v3xGerK5z0ISB98rieg2sjPkpiF+jRGH9WLazLXf5zTu996kSreVh69mLTXCVB7dYZHIvRqbutddiS+xm7V2p5+r+d693euryVQrb3hW3PPAj1B6vBtnPyXQL8MWhg8pvWXCZm/mIsEqu+OF9dSbI93f1wvzovtW/eKE9fPY90fTeGoiJTzUVO750W39SBQnlpXYzIb5at2Pu9BYEtv75HhZ2ahulAt9D7qi7XjZ8+Z2tl6Rpx5TvVypv0YAWrvGK/q6F7Nbb3Ljq65VWuKNerXGPuK+J4/mgfjtwlUa+8lptYmKacqocYEbVrV5p8sDovG/dHgSnRudxH45aI47tNVxaDx7ncucYzuW6Yy70PfPb/V5zaP8Roxds7POXpuq19jxDZ/Igfd++N14zX253H+Hq8xtuK05sfx3M8jIP58riegOt7Svfo0xh/X/V5T6/GxTnUfa12xOH8Tvv4K+2uZ92quampHtTbqz55l67lwLbHPXa1ae8O3ZnWBz0XPziAwlwC1N5cv0SHQI0Dt9cjQDoG5BKq1h6mdez5Eh8BpAtXiPr0wEyHwcALU3sMFwPaXEajWHqZ22dGxMAS2CVSLezs6vRCAQI8AtdcjQzsE5hKo1h6mdu75EB0CpwlUi/v0wkyEwMMJUHsPFwDbX0agWnuY2mVHx56mCvMAABqMSURBVMIQ2CZQLe7t6PRCAAI9AtRejwztEJhLoFp7mNq550N0CJwmUC3u0wszEQIPJ0DtPVwAbH8ZgWrtYWqXHR0LQ2CbQLW4t6PTCwEI9AhQez0ytENgLoFq7WFq554P0SFwmkC1uE8vzEQIPJwAtfdwAbD9ZQSqtYepXXZ0LAyBbQLV4t6OTi8EINAjQO31yNAOgbkEqrWHqZ17PkSHwGkC1eI+vTATIfBwAtTewwXA9pcRqNYepnbZ0bEwBLYJVIt7Ozq9EIBAjwC11yNDOwTmEqjWHqZ27vkQHQKnCVSL+/TCTITAwwlQew8XANtfRqBae5jaZUfHwhDYJlAt7u3o9EIAAj0C1F6PDO0QmEugWnuY2rnnQ3QInCZQLe7TCzMRAg8nQO09XABsfxmBau1hapcdHQtDYJtAtbi3o9MLAQj0CFB7PTK0Q2AugWrtYWrnng/RIXCaQLW4Ty/MRAg8nAC193ABsP1lBKq1h6lddnQsDIFtAtXi3o5OLwQg0CNA7fXI0A6BuQSqtYepnXs+RIfAaQLV4j69MBMh8HAC1N7DBcD2lxGo1h6mdtnRsTAEtglUi3s7Or0QgECPALXXI0M7BOYSqNYepnbu+RAdAqcJVIv79MJMhMDDCVB7DxcA219GoFp7mNplR8fCENgmUC3u7ej0QgACPQLUXo8M7RCYS6Bae5jauedDdAicJlAt7tMLMxECDydA7T1cAGx/GYFq7WFqlx0dC0Ngm0C1uLej0wsBCPQIUHs9MrRDYC6Bau1haueeD9EhcJpAtbhPL8xECDycALX3cAGw/WUEqrWHqV12dCwMgW0C1eLejk4vBCDQI0Dt9cjQDoG5BKq1h6mdez5Eh8BpAtXiPr0wEyHwcALU3sMFwPaXEajWHqZ22dGxMAS2CVSLezs6vRCAQI8AtdcjQzsE5hKo1h6mdu75EB0CpwlUi/v0wkyEwMMJUHsPFwDbX0agWnuY2mVHx8IQ2CZQLe7t6PRCAAI9AtRejwztEJhLoFp7mNq550N0CJwmUC3u0wszEQIPJ0DtPVwAbH8ZgWrtYWqXHR0LQ2CbQLW4t6PTCwEI9AhQez0ytENgLoFq7WFq554P0SFwmkC1uE8vzEQIPJwAtfdwAbD9ZQSqtYepXXZ0LAyBbQLV4t6OTi8EINAjQO31yNAOgbkEqrWHqZ17PkSHwGkC1eI+vTATIfBwAtTewwXA9pcRqNYepnbZ0bEwBLYJVIt7Ozq9EIBAjwC11yNDOwTmEqjWHqZ27vkQHQKnCVSL+/TCTITAwwlQew8XANtfRqBae5jaZUfHwhDYJlAt7u3o9EIAAj0C1F6PDO0QmEugWnuY2rnnQ3QInCZQLe7TCzMRAg8nQO09XABsfxmBau1hapcdHQtDYJtAtbi3o9MLAQj0CFB7PTK0Q2AugWrtYWrnng/RIXCaQLW4Ty/MRAg8nAC193ABsP1lBKq1h6lddnQsDIFtAtXi3o5OLwQg0CNA7fXI0A6BuQSqtYepnXs+RIfAaQLV4j69MBMh8HAC1N7DBcD2lxGo1t4uU6tF+IEBGkADaAANoAE0gAbQwEwNVBz10NRWgjMXAhCAAAQgAAEIQAACVxDA1F5BmTUgAAEIQAACEIAABKYSwNROxUtwCEAAAhCAAAQgAIErCGBqr6DMGhCAAAQgAAEIQAACUwlgaqfiJTgEIAABCEAAAhCAwBUEMLVXUGYNCEAAAhCAAAQgAIGpBDC1U/ESHAIQgAAEIAABCEDgCgKY2isoswYEIAABCEAAAhCAwFQCmNqpeAkOAQhAAAIQgAAEIHAFAUztFZRZAwIQgAAEIAABCEBgKgFM7VS8BIcABCAAAQhAAAIQuIIApvYKyqwBAQhAAAIQgAAEIDCVAKZ2Kl6CQwACEIAABCAAAQhcQQBTewVl1oAABCAAAQhAAAIQmEoAUzsVL8EhAAEIQAACEIAABK4ggKm9gjJrQAACEIAABCAAAQhMJYCpnYqX4BCAAAQgAAEIQAACVxDA1F5BmTUgAAEIQAACEIAABKYSwNROxUtwCEAAAhCAAAQgAIErCGBqr6DMGhCAAAQgAAEIQAACUwlgaqfiJTgEIAABCEAAAhCAwBUEMLVXUGYNCEAAAhCAAAQgAIGpBDC1U/ESHAIQgAAEIAABCEDgCgKY2isoswYEIAABCEAAAhCAwFQCmNqpeAkOAQhAAAIQgAAEIHAFAUztFZRZAwIQgAAEIAABCEBgKgFM7VS8BIcABCAAAQhAAAIQuIIApvYKyqwBAQhAAAIQgAAEIDCVAKZ2Kl6CQwACEIAABCAAAQhcQQBTewVl1oAABCAAAQhAAAIQmEoAUzsVL8EhAAEIQAACEIAABK4ggKm9gjJrQAACEIAABCAAAQhMJbDQ1P7fHz9+8AMDNIAG0AAaQANoAA3cVwNTfeqh4JhajDW/XKABNIAG0AAaQANo4KQGDvnOqYMxtYj4pIj5rfq+v1VzdpwdGkADaAANvEoDU33qoeCYWkztW5ra3/7Lbz/+5d//5S1z40H4qgchcdASGkADaOD+GjjkO6cOfhtTKwPzH//73/8yMTI0/+v//M9dhkZjWz//+t//9a8Y6vvn//bPf8fSGmqbLSKt38rrirVHe/unf/unXxgoL/Mfza/2i82WYdXZK5+tMdUcmM+LBA2gATSABtDAKzQw1aceCv42plbGU6bKhuao0P7r//i3HzJrcZ5jKbZN8lWmNuahvJRfbFt5r3zEJOb0TqZ2JRvWfsUDjhjoCA2gATTwHA0c8p1TBy83tTJWMlStH/1Fb68otkyt+vxXv3cytdqzzLb/chpNufJ1zmLQ2p+Mqbnpfi8rm+y4nuLEv9RqbceO47SGGbpf1zgm9yt3zev99TrmHveUz19r5DaNj5zyGnuZMI4XEBpAA2gADaCBMxqY6lMPBV9uai0gGSPdyxBFk+P+0bVl+vyXWhtHx/dao5iv6pcZs7GLMW0KbSa1b5u2kanN/XFuXKN173wUw2srF98rh3gGeS2N9X50zTzj3Fa/4itmKze3tfaT84rnq3laK5rrPN6xuZ55aDEH3aABNIAG0EBLA4d859TBb2Fqo+mUMRkZnpaosqHRmGh6ZHA0RsYtm7BWPLUpD43NP4rTm9Nqt4nMfYobY0XzGO81L+4v7ssxY7/belfnIxZmrVxsauO9YkRmXjvG1ni1xzbfe3zsP2tqcyztORpo72trbfdxbT2YaEMXaAANoAE0cFQDU33qoeDLTa1MiUxR6ycaoZHIWqYumiDdy/REgzaK+ar+bLYcN5tHt+u6x9RmZlonxujdx3x0b07R1ObY+u54uhdvfdc19qmtdabxLM+aWsf22lrH9+rTXlp5x7U1jh8YoAE0gAbQABp4lQYO+c6pg5ebWolKZsp/cZOZk+k5KjaZm2zqbNZsahw7m7DeWhrfMknRSPXmxvZoImO7YttIxnbd7zG1ec7e7zEf7UW8Yy66N7NWzMwkjnUsz8tnoPaKqVW+1ory8Dq6al89nnEc9696kBEHLaEBNIAG0MBUn3oo+FuY2mhU8l/f9opFMUamVoZHY7IZ2rvG2XHRRMYYyqNnwmT8bN5sDOP+1CfjG+Ptvc/5mIlzUVyvnWPGs8p9+q68Y57+xSAaX8UYnYHWV6zWGs4/7z+v3ZpLGy8gNIAG0AAaQAOv1MAh3zl18FuYWpkRGxSZGZurI6LbY2oVzwbuSOzqWJuwHGfL1Gqs+v1jQx5jeC8e0zOBcY7ucz42npG7zsFxdfX5eH7s032cG/uUk75HU6sYMb7unWOc6/u4tsY5ZlzT870Xz42xPYbrKx9mxEJPaAANoIFna2CqTz0U/C1M7bPFcK+HgQylTHE8s1Zb7Of+XmfMeXFeaAANoAE0sF8Dh3zn1MGYWv4/Dv1kUEci1l9Cs6nVX0P5iygPwJF26EcjaAANoIFP1MBUn3ooOKYWU3vI1OqBlP9nDxjaT3xIsSdevmgADaABNLBHA4d859TBmFpM7WFTS5HvKXLGoBM0gAbQABp4ggam+tRDwTG1mFpMLRpAA2gADaABNIAGTmrgkO+cOhhTi4hPivgJv32yR/7KggbQABpAA2hgWwNTfeqh4JhaTC2mFg2gATSABtAAGkADJzVwyHdOHYypRcQnRcxvrtu/ucIHPmgADaABNPAEDUz1qYeCY2oxtZhaNIAG0AAaQANoAA2c1MAh3zl1MKb2TUXsf0pW/zJW/u/CfsJvvvrPgJ3dl9m0/kWxT2DDHp7wlw32iM7RABr4FA1M9amHgr+NqdV/1N8mRUYu/7OqPfFrjv9JVF+jWcr/TdXY14v5qnYZN+fkqwzZkfitf/73yPwzY69gpjV6ZyFuW5y2/pncM/tlzqc8WNkHWkYDaAANXK+BQ75z6uC3MbUyMjKoMrMygHsPxaa2N17GKRqkyl8Ie2v02rWWDFivf0/7KlO7ipmYjEztHm6M4cGOBtAAGkADaOAKDUz1qYeCLze1Mk/+K2a+7jGER02tx+/9S3ClIEam1gbe+27td8vU5r+oxj3l2NGkjvaUfxHIzHLsnHc+U/0V3mtqrPcrPm7XVd/dF6+On9dt7Ve5xpiKE/ce18jrx3ncX/EgZA10hgbQABq4vwYO+c6pg5ebWh+mzIfuZUqOmA0bLsfJ155By+NmfNc+bMha8eM+vY9o1DSnZ2oVN5rFHF88bfBsBnPsPMfft5g5lmNrTjaO+j5aS/nH/XttXdUejWjs071zyGtk3pmdeEVmeXxeh++8bNAAGkADaAANjDQw1aceCv4WplbmREZKwpERicZjJCabQRkp/8T52aDJyMT+rfga55jxumW4YjytFefpPhuxOF790SyqLxszj5cp1Hh/j9eWYTxi4LaYtWLnNuWltphTvs9zYr9y3WLcM7WZlc7PebTm5PExB+5HDzH60QgaQANoAA1IA+/zWW5qW8ZPpkg/WwbQQrKp9fd8lUFzPF33Gtoc58z3kZFsmea9plb5xPk2b2rXfdyz7+OYrf1sMdOamaHMofbqmDaQXtft8apc4pzYp/YzplYxtKZ1E+9zTs5Ne41rc89LCg2gATSABtDAEQ1gan8yEjJyNjgyTHvNl0S3x9RuGaQt4UbTaBOk69542lNvL4oRTZfy0PcjpjbmHvPSmtl4xrGj+/yX2ji+FVttPr84VvfqaxnHrTkVU2v9RE0pD5vanB/fjzy4GIte0AAaQANoIGsAU/uTqZXBsykaGZosppmmNq919Lv2IvPWmmdT6z6Nq5jauJYNXDbIXmt03TK15u3Yo7U8Pq+5ZWplTK2HPE/fvaauuV9tmqsY+ZcPt+c5fM8PKL6jCTSABtAAGtirAUztT2ZEBsd/WZTxsGHaI6ieafLcLYPmMbOu2kvP1GpN5SYjqx/tX9+9d313X7w6V8WO7ebnfnOJY1om0OPjdcTMhtyxo3kcrZvzVgytF9fXvWPraoZ5XY8xM8fwGv4er5F5jB3HcL/3QcY4tIIG0AAaQAOY2l9MDKLgwYAG0AAaQANoAA2ggbtpAFOLqX3Tf56Xh8ndHibki2bRABpAA2hgpQYwtZhaTC0aQANoAA2gATSABm6vAUwtIr69iFf+Vsja/FUCDaABNIAG0MB7aABTi6nF1KIBNIAG0AAaQANo4PYawNQi4tuLmN+Q3+M3ZM6Bc0ADaAANoIGVGsDUYmoxtWgADaABNIAG0AAauL0GMLWI+PYiXvlbIWvzVwk0gAbQABpAA++hAUwtphZTiwbQABpAA2gADaCB22sAU4uIByKO/3pW61/ceo/fztb8lmw2+V8SezIT9r5Gi3CHOxpAA2gAU/uLqdU/82qTon++dO8/6dr6Z1ltAhVDsfTPplp0Hu/vM6/+51r9z7nqGv9J2T1ra7z3s2d8dcxqZspf3LY46Z/NFUvrpbpn5vNSQgNoAA2gATRwVgOY2r9NpkUkIyOTYlPl9tF1y6Q6lmLrXrG2xo/WOtqvdWXAjs6L41ea2hXMtPeRqY18uD/7EGIe2kEDaAANoIFXaABT+7fRk2mLf8mM93sM4ZZJtanVGvpLsMS7Nf7V4h6ZWufnPbf2u2Vq9Rdcz9XVJlT7yLEVZ8/+PG/ELK6b89b32K9781cOuo/9zku8YrvvHd+5ub21X52v4+mqsXHvcQ3dx7Hcv+LhRgx0hAbQABp4lgYwtb+YCZkPiUCm5IjZ2DKpNkG6+v+EvzX+1SLUPmzIWrHjPp1XNGqa0zO1ihuNYo4vnoqp9sghj8vf49geM7VHoxjXyvtQjnGfmhfnqi/vQ21xzFaOsU/zIm/F8B40TuvEtfL4GIt7XkpoAA2gATSABvZoAFP7k6mNplNGJBqPkaBsomSs/OP50aDJ7Ci2x4/iql9xHDNetwxXjCvTFOfpXjnFMfFe/Taibs/GzO3aj8b7e7yqT2vHtr0GbsSslY84mbn649raTzSWMSfd93LdYhxzjPFybspJ8TWmNSePj7G43/MgYww6QQNoAA2gAUzt34arZfxsBLcMoEW0ZVKjkdG9zNXWeMd81XVkJFumea+pVY5xvs2b2nVvhvEax/T2OGImIxhj+t6m1nx9dmqPJtfxPU/X2K+89P2MqdVcxfPa8b61rvq3DHePEe28xNAAGkADaAANWAOY2r9NrUQhI2RjIxO0x3xZTDZR/h6vNjI2OY4tMxPH9e41XmPzz5bhirG0p95ebA6dm+ZpnSOmNq6luc5Layr32L/3fsRMa/isWjF9HmaWTaO+x9yUa46n795La42cYxzjM46aUr/nxLHc+4HEFS2gATSABtDAWQ1gan8yXNEojQxNFp1NVG7XdxsZXfVdY2WqZLha41/dpr2MTK3X1LiKqY1red/ar+PvvXruFrNooHNcm8rc7u/iH5kolnJ3v66Kkdtif84x92muYmRj7PY4nvuzDzHmoR00gAbQABqQBt7nI3e36POPYpDJkQmROGQ8jpixI6ZW8d/F1MZcZOy0f+Xmveu72vOPC0icYp/5ud9c4hgbVY9pXVuGMTPzmBjbebf6NM5ryWjGeTp77cX9vuYxas9zPcZre67Z+Hu8ei+eGw12HMf9P+oTFrBAA2gADaCBvgYW2cjGsm9havugENHd2MhQZoPdarvbvsiXWkQDaAANoAE00NJAw10uasLUDv65WgTcEnC/TX8JzaZWfxXlL6J9ZmgMNmgADaABNHBfDSxysI1lMbWY2l/+T/+Vwmr9zw8wtDysK5piLvpBA2gADbyzBhruclETphZT+1JTy4PnnR885IY+0QAaQANo4NUaWORgG8tiajG1mFo0gAbQABpAA2gADZzUQMNdLmrC1CLikyJ+9W96xOOvB2gADaABNIAG7qeBRQ62sSymFlOLqUUDaAANoAE0gAbQwEkNNNzloiZMLSI+KWJ+m77fb9OcGWeGBtAAGkADr9bAIgfbWBZTi6nF1KIBNIAG0AAaQANo4KQGGu5yUROmFhGfFPH2b3r+17/yv/a19zdk/bdt83/vdu9cxm2fDXzggwbQABpAA6/TwCIH21j2bUytDIwNkAyN/nune4D7nzvNV/+3UfM/i6rve+JWx2j9nJO/V2NX54u1c/F1L++9a3v/PtM4T31bhtX/rdutMTEe9zyc0QAaQANoAA2s0kDDXS5qehtTq39KVQbIhuaoOPWXwZZhVZv6HE/rtMa5f8Y15zBjjSMxZRajYbQBfbWx7eU0MrW9ebSvemCxLtpDA2gADaCBngYWOdjGsstNrf/P1P6LYbzK/OwV0V5TK+OsNa4ycMq/Z2qdh/p1H812Np6t/cmgm5fu97LKsTVPcbL5d+yYl8b6F49Wf+6LnG2ePc/XmHvcUz5/5ZHbNL5l0B17LxPG9R5WtKMNNIAG0AAa2NJAw10ualpuai0UmRDdy3RGk+P+0bVl+jRHRiiaNZvaUbxX9uccHNvGSzmpTfu2acvGM+8v98e5jt+75rkap1xiHtEo6j6eie4j09Y6NrfR1Hqc9hjjuz1eW/vRvJhHXiMzyuNjfO63HlD0oQ80gAbQABrYq4FFDrax7FuYWpkT/zVQxmRkeFpCy4bGY7KhlCnaG1/jbDzjdWTovLavOQe3K2aMpfWcW7zX+Li/bOZyv+P3rjm2zJ/5t2LnNjGM5rK1Tp4Tx5w1tTmmmMQ8Muc8PubA/d6HFePQChpAA2gADWxpoOEuFzUtN7UyJdEwxnuZkr1CiqYvzpHRiTFtGuOY2ffZbHk95eW/jrrN12w84/5s1uK+dG9j6hi9q2LHuXFe7y/ZGh/PI3Jt7cE5xjnO56yp1XzpRSzyvb7HnOL+Wjk4F65bDyr60AcaQANoAA2MNLDIwTaWXW5qJRaZIv/FTYZLpueoiKLpi3NldGyCYvue+2z+bJSOxuvloHgtQ6jc9pjaPXtojcmx4xib0VZbyxzaBOc+x8ntilsxtWJvrYhfzFOcezzjOO5HDyj60QgaQANoAA3s1UDDXS5qegtTG41K/EvcEUEphkxNntMzlHnczO+9HLZMrYyfzZsNYtyf+mROz+S9ZWoVT+vE2KO1Wvtwzi1Tq7PKhjTvQ2v2frkxz5ij5mt8ZJRj8n3vA4pxaAUNoAE0gAb2amCRg20s+xamNv7lTmbmzF/bPs3Uqphk/PwjJtmw6bv7de2ZwFyYI1Ob19aZxBhxTd2LvfttWPOYfKaK6TExvtvitWVe1Z9jKgeNjXNjbOfIde+DinFoBQ2gATSABkYaaLjLRU1vYWoRzEgw9KMRNIAG0AAaQANo4B01sMjBNpbF1PLP5P79V1YeFu/4sCAndIkG0AAaQAPvrIGGu1zUhKnF1GJq0QAaQANoAA2gATRwUgOLHGxjWUwtIj4p4nf+rZHc+KsGGkADaAANoIFrNNBwl4uaMLWYWkwtGkADaAANoAE0gAZOamCRg20si6lFxCdFzG/A1/wGDGc4owE0gAbQwDtroOEuFzVhajG1mFo0gAbQABpAA2gADZzUwCIH21gWU4uIT4r4nX9rJDf+qoEG0AAaQANo4BoNNNzloiZMLaYWU4sG0AAaQANoAA2ggZMaWORgG8v+PyTli2QonmUeAAAAAElFTkSuQmCC)"
      ]
    },
    {
      "cell_type": "code",
      "metadata": {
        "colab": {
          "base_uri": "https://localhost:8080/"
        },
        "id": "sFeRAkmvu-qa",
        "outputId": "6151f396-a6c8-4c9a-a8c5-b9ed065d2e57"
      },
      "source": [
        "# check the precision of model\n",
        "from sklearn.metrics import precision_score\n",
        "# precision: tp / (tp + fp)\n",
        "precision = precision_score(Y_test,Y_pred_nb)\n",
        "print('Precision: %f' % precision)"
      ],
      "execution_count": null,
      "outputs": [
        {
          "output_type": "stream",
          "text": [
            "Precision: 0.787671\n"
          ],
          "name": "stdout"
        }
      ]
    },
    {
      "cell_type": "code",
      "metadata": {
        "colab": {
          "base_uri": "https://localhost:8080/"
        },
        "id": "D1M9mwUs64J2",
        "outputId": "6de72fd0-c516-4023-f4a7-91bce42847e1"
      },
      "source": [
        "# calculate the recall of model\n",
        "from sklearn.metrics import recall_score\n",
        "# recall: tp / (tp + fn)\n",
        "recall = recall_score(Y_test,Y_pred_nb)\n",
        "print('Recall: %f' % recall)"
      ],
      "execution_count": null,
      "outputs": [
        {
          "output_type": "stream",
          "text": [
            "Recall: 0.871212\n"
          ],
          "name": "stdout"
        }
      ]
    },
    {
      "cell_type": "markdown",
      "metadata": {
        "_uuid": "abb767170c662e4d9a8b240fd0fd7286ffb0b67f",
        "id": "09ddUrMqY0ka"
      },
      "source": [
        "### Decision Tree"
      ]
    },
    {
      "cell_type": "code",
      "metadata": {
        "_uuid": "8c141316764dce80103d1879c9b17d853702a746",
        "id": "OWkTxmv7Y0ka"
      },
      "source": [
        "from sklearn.tree import DecisionTreeClassifier\n",
        "\n",
        "max_accuracy = 0\n",
        "\n",
        "\n",
        "for x in range(200):\n",
        "    dt = DecisionTreeClassifier(random_state=x)\n",
        "    dt.fit(X_train,Y_train)\n",
        "    Y_pred_dt = dt.predict(X_test)\n",
        "    current_accuracy = round(accuracy_score(Y_pred_dt,Y_test)*100,2)\n",
        "    if(current_accuracy>max_accuracy):\n",
        "        max_accuracy = current_accuracy\n",
        "        best_x = x\n",
        "\n",
        "dt = DecisionTreeClassifier(random_state=best_x)\n",
        "dt.fit(X_train,Y_train)\n",
        "Y_pred_dt = dt.predict(X_test)"
      ],
      "execution_count": null,
      "outputs": []
    },
    {
      "cell_type": "code",
      "metadata": {
        "_uuid": "8de0bd2d57abd24d3a97a5b020a24439eb106f2b",
        "colab": {
          "base_uri": "https://localhost:8080/"
        },
        "id": "AbdbH4e1Y0ka",
        "outputId": "750b760c-a08a-4f1a-f98f-1965e5e901c3"
      },
      "source": [
        "# shape of prediction column\n",
        "print(Y_pred_dt.shape)"
      ],
      "execution_count": null,
      "outputs": [
        {
          "output_type": "stream",
          "text": [
            "(266,)\n"
          ],
          "name": "stdout"
        }
      ]
    },
    {
      "cell_type": "code",
      "metadata": {
        "_uuid": "52ab93482d3b53824e9bc2b3e4114c57253e0c5b",
        "colab": {
          "base_uri": "https://localhost:8080/"
        },
        "id": "c34B0cDFY0kb",
        "outputId": "35837878-d1c2-41ad-c4ba-c2501ab1503c"
      },
      "source": [
        "score_dt = round(accuracy_score(Y_test,Y_pred_dt)*100,2)\n",
        "\n",
        "print(\"The accuracy score achieved using Decision Tree is: \"+str(score_dt)+\" %\")"
      ],
      "execution_count": null,
      "outputs": [
        {
          "output_type": "stream",
          "text": [
            "The accuracy score achieved using Decision Tree is: 100.0 %\n"
          ],
          "name": "stdout"
        }
      ]
    },
    {
      "cell_type": "code",
      "metadata": {
        "colab": {
          "base_uri": "https://localhost:8080/"
        },
        "id": "LZaNvhfBJPTE",
        "outputId": "9abeb6a1-ced6-4a57-c20f-de59116c26c2"
      },
      "source": [
        "# make confusion matrix\n",
        "from sklearn.metrics import confusion_matrix\n",
        "confusion_matrix(Y_test,Y_pred_dt)"
      ],
      "execution_count": null,
      "outputs": [
        {
          "output_type": "execute_result",
          "data": {
            "text/plain": [
              "array([[134,   0],\n",
              "       [  0, 132]])"
            ]
          },
          "metadata": {
            "tags": []
          },
          "execution_count": 33
        }
      ]
    },
    {
      "cell_type": "markdown",
      "metadata": {
        "id": "aHxMl4g4xREW"
      },
      "source": [
        "## Confusion matrix\n",
        "![image.png](data:image/png;base64,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)"
      ]
    },
    {
      "cell_type": "code",
      "metadata": {
        "colab": {
          "base_uri": "https://localhost:8080/"
        },
        "id": "ikWz3pV_L37k",
        "outputId": "8c35f980-5635-402e-df55-babb05b445e7"
      },
      "source": [
        "# calculate precision of model\n",
        "from sklearn.metrics import precision_score\n",
        "precision = precision_score(Y_test,Y_pred_dt)\n",
        "print('Precision: %f' % precision)"
      ],
      "execution_count": null,
      "outputs": [
        {
          "output_type": "stream",
          "text": [
            "Precision: 1.000000\n"
          ],
          "name": "stdout"
        }
      ]
    },
    {
      "cell_type": "code",
      "metadata": {
        "id": "IljrExOTSQ2m",
        "colab": {
          "base_uri": "https://localhost:8080/"
        },
        "outputId": "6367554e-65db-4365-a78c-af8c715916ab"
      },
      "source": [
        "# calculate Recall of medol\n",
        "from sklearn.metrics import recall_score\n",
        "recall = recall_score(Y_test,Y_pred_dt)\n",
        "print('Recall: %f' % recall)"
      ],
      "execution_count": null,
      "outputs": [
        {
          "output_type": "stream",
          "text": [
            "Recall: 1.000000\n"
          ],
          "name": "stdout"
        }
      ]
    },
    {
      "cell_type": "code",
      "metadata": {
        "id": "yMxSvjaD4skH"
      },
      "source": [
        ""
      ],
      "execution_count": null,
      "outputs": []
    }
  ]
}